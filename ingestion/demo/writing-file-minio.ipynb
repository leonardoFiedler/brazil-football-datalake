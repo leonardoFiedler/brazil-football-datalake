{
 "cells": [
  {
   "cell_type": "code",
   "execution_count": 2,
   "metadata": {},
   "outputs": [],
   "source": [
    "import polars as pl\n",
    "\n",
    "\n",
    "df = pl.DataFrame({\n",
    "    'ID': [1,2,3,4],\n",
    "    'Direction': ['up', 'down', 'right', 'left']\n",
    "})\n"
   ]
  },
  {
   "cell_type": "code",
   "execution_count": 3,
   "metadata": {},
   "outputs": [],
   "source": [
    "import boto3\n",
    "\n",
    "client = boto3.client(\n",
    "    \"s3\",\n",
    "    aws_access_key_id = \"minio\",\n",
    "    aws_secret_access_key = \"minio123\",\n",
    "    endpoint_url = \"http://localhost:9000\"\n",
    ")\n"
   ]
  },
  {
   "cell_type": "code",
   "execution_count": 6,
   "metadata": {},
   "outputs": [],
   "source": [
    "from io import BytesIO\n",
    "\n",
    "def write_parquet(client, df, bucket, key):\n",
    "    parquet_io = BytesIO()\n",
    "    df.write_parquet(parquet_io)\n",
    "    return client.upload_fileobj(parquet_io, bucket, key)"
   ]
  },
  {
   "cell_type": "code",
   "execution_count": 7,
   "metadata": {},
   "outputs": [],
   "source": [
    "write_parquet(client, df, \"datalake\", \"landing/2024/landing.csv\")"
   ]
  }
 ],
 "metadata": {
  "kernelspec": {
   "display_name": ".venv",
   "language": "python",
   "name": "python3"
  },
  "language_info": {
   "codemirror_mode": {
    "name": "ipython",
    "version": 3
   },
   "file_extension": ".py",
   "mimetype": "text/x-python",
   "name": "python",
   "nbconvert_exporter": "python",
   "pygments_lexer": "ipython3",
   "version": "3.12.4"
  },
  "orig_nbformat": 4
 },
 "nbformat": 4,
 "nbformat_minor": 2
}
