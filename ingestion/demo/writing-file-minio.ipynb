{
 "cells": [
  {
   "cell_type": "code",
   "execution_count": 2,
   "metadata": {},
   "outputs": [],
   "source": [
    "import polars as pl\n",
    "\n",
    "\n",
    "df = pl.DataFrame({\n",
    "    'ID': [1,2,3,4],\n",
    "    'Direction': ['up', 'down', 'right', 'left']\n",
    "})\n"
   ]
  },
  {
   "cell_type": "code",
   "execution_count": 3,
   "metadata": {},
   "outputs": [],
   "source": [
    "import boto3\n",
    "\n",
    "client = boto3.client(\n",
    "    \"s3\",\n",
    "    aws_access_key_id = \"minio\",\n",
    "    aws_secret_access_key = \"minio123\",\n",
    "    endpoint_url = \"http://localhost:9000\"\n",
    ")\n"
   ]
  },
  {
   "cell_type": "code",
   "execution_count": 12,
   "metadata": {},
   "outputs": [],
   "source": [
    "from io import BytesIO\n",
    "\n",
    "def write_parquet(client, df, bucket, key):\n",
    "    parquet_io = BytesIO()\n",
    "    df.write_parquet(parquet_io)\n",
    "    parquet_io.seek(0)\n",
    "    print(parquet_io.getvalue())\n",
    "    return client.upload_fileobj(parquet_io, bucket, key)"
   ]
  },
  {
   "cell_type": "code",
   "execution_count": 13,
   "metadata": {},
   "outputs": [
    {
     "name": "stdout",
     "output_type": "stream",
     "text": [
      "b'PAR1\\x15\\x00\\x15L\\x15J,\\x15\\x08\\x15\\x00\\x15\\x06\\x15\\x06\\x1c6\\x00(\\x08\\x04\\x00\\x00\\x00\\x00\\x00\\x00\\x00\\x18\\x08\\x01\\x00\\x00\\x00\\x00\\x00\\x00\\x00\\x00\\x00\\x00(\\xb5/\\xfd &\\xe5\\x00\\x00\\xa0\\x02\\x00\\x00\\x00\\x03\\x0f\\x01\\x00\\x02\\x00\\x03\\x00\\x04\\x00\\x00\\x00\\x00\\x00\\x00\\x00\\x03\\x14\\x00\\x03\\x18s\\x01\\x15\\x04\\x19%\\x00\\x06\\x19\\x18\\x02ID\\x15\\x0c\\x16\\x08\\x16\\x9e\\x01\\x16\\x9c\\x01&\\x08<6\\x00(\\x08\\x04\\x00\\x00\\x00\\x00\\x00\\x00\\x00\\x18\\x08\\x01\\x00\\x00\\x00\\x00\\x00\\x00\\x00\\x00\\x00\\x15\\x00\\x15J\\x15\\\\,\\x15\\x08\\x15\\x00\\x15\\x06\\x15\\x06\\x1c6\\x00(\\x02up\\x18\\x04down\\x00\\x00\\x00(\\xb5/\\xfd %)\\x01\\x00\\x02\\x00\\x00\\x00\\x03\\x0f\\x02\\x00\\x00\\x00up\\x04\\x00\\x00\\x00down\\x05\\x00\\x00\\x00right\\x04\\x00\\x00\\x00left\\x15\\x0c\\x19%\\x00\\x06\\x19\\x18\\tDirection\\x15\\x0c\\x16\\x08\\x16\\x88\\x01\\x16\\x9a\\x01&\\x84\\x02<6\\x00(\\x02up\\x18\\x04down\\x00\\x00\\x19\\x11\\x02\\x19\\x18\\x08\\x01\\x00\\x00\\x00\\x00\\x00\\x00\\x00\\x19\\x18\\x08\\x04\\x00\\x00\\x00\\x00\\x00\\x00\\x00\\x15\\x00\\x19\\x16\\x00\\x00\\x19\\x11\\x02\\x19\\x18\\x04down\\x19\\x18\\x02up\\x15\\x00\\x19\\x16\\x00\\x00\\x19\\x1c\\x16\\x08\\x15\\x9c\\x01\\x16\\x00\\x00\\x00\\x19\\x1c\\x16\\x84\\x02\\x15\\x9a\\x01\\x16\\x00\\x00\\x00\\x15\\x02\\x19<H\\x04root\\x15\\x04\\x00\\x15\\x04%\\x02\\x18\\x02ID\\x00\\x15\\x0c%\\x02\\x18\\tDirection%\\x00L\\x1c\\x00\\x00\\x00\\x16\\x08\\x19\\x1c\\x19,&\\xa4\\x01\\x1c\\x15\\x04\\x19%\\x00\\x06\\x19\\x18\\x02ID\\x15\\x0c\\x16\\x08\\x16\\x9e\\x01\\x16\\x9c\\x01&\\x08<6\\x00(\\x08\\x04\\x00\\x00\\x00\\x00\\x00\\x00\\x00\\x18\\x08\\x01\\x00\\x00\\x00\\x00\\x00\\x00\\x00\\x00\\x00\\x16\\xe2\\x04\\x15\\x16\\x16\\xfa\\x03\\x15>\\x00&\\x9e\\x03\\x1c\\x15\\x0c\\x19%\\x00\\x06\\x19\\x18\\tDirection\\x15\\x0c\\x16\\x08\\x16\\x88\\x01\\x16\\x9a\\x01&\\x84\\x02<6\\x00(\\x02up\\x18\\x04down\\x00\\x00\\x16\\xf8\\x04\\x15\\x18\\x16\\xb8\\x04\\x15*\\x00\\x16\\xa6\\x02\\x16\\x08&\\x08\\x16\\xb6\\x02\\x14\\x00\\x00\\x19\\x1c\\x18\\x0cARROW:schema\\x18\\x84\\x02/////7sAAAAEAAAA8v///xQAAAAEAAEAAAAKAAsACAAKAAQA+P///wwAAAAIAAgAAAAEAAIAAABIAAAABAAAAOz///8sAAAAIAAAABgAAAABFAAAEAASAAQAEAARAAgAAAAMAAAAAAD8////BAAEAAkAAABEaXJlY3Rpb24AAADs////OAAAACAAAAAYAAAAAQIAABAAEgAEABAAEQAIAAAADAAAAAAA9P///0AAAAABAAAACAAJAAQACAACAAAASUQA\\x00\\x18\\x06Polars\\x19,\\x1c\\x00\\x00\\x1c\\x00\\x00\\x00\\xe4\\x01\\x00\\x00PAR1'\n"
     ]
    }
   ],
   "source": [
    "write_parquet(client, df, \"datalake\", \"landing/2024/landing.csv\")"
   ]
  }
 ],
 "metadata": {
  "kernelspec": {
   "display_name": ".venv",
   "language": "python",
   "name": "python3"
  },
  "language_info": {
   "codemirror_mode": {
    "name": "ipython",
    "version": 3
   },
   "file_extension": ".py",
   "mimetype": "text/x-python",
   "name": "python",
   "nbconvert_exporter": "python",
   "pygments_lexer": "ipython3",
   "version": "3.12.4"
  },
  "orig_nbformat": 4
 },
 "nbformat": 4,
 "nbformat_minor": 2
}
